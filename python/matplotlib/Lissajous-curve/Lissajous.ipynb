{
  "shell_port": 57896,
  "iopub_port": 57900,
  "stdin_port": 57897,
  "control_port": 57898,
  "hb_port": 57902,
  "ip": "127.0.0.1",
  "key": "b033562e-b8b1a20362355b9b4b4597e1",
  "transport": "tcp",
  "signature_scheme": "hmac-sha256",
  "kernel_name": ""
}